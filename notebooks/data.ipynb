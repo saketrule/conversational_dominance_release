{
 "cells": [
  {
   "cell_type": "code",
   "execution_count": 78,
   "metadata": {},
   "outputs": [],
   "source": [
    "import os\n",
    "import pandas as pd\n",
    "\n",
    "folder_path = '/Users/nishthasardana/Downloads/transcripts_and_word_frequencies/transcriptions'\n",
    "\n",
    "# Get a list of all files in the folder\n",
    "all_files = os.listdir(folder_path)\n",
    "\n",
    "# Filter files ending with .txt\n",
    "txt_files = [file for file in all_files if file.endswith('.txt')]\n"
   ]
  },
  {
   "cell_type": "code",
   "execution_count": 79,
   "metadata": {},
   "outputs": [],
   "source": [
    "dir_path = '/Users/nishthasardana/Downloads/transcripts_and_word_frequencies/transcriptions'\n",
    "\n",
    "file_name_list = []\n",
    "file_content_list = []\n",
    "\n",
    "for file_name in txt_files:\n",
    "\n",
    "    file_path = os.path.join(dir_path, file_name)\n",
    "    # Open the file in read mode ('r')\n",
    "    with open(file_path, 'r') as file:\n",
    "    # Read all lines, remove newline characters, and concatenate into a single string\n",
    "        file_content = ''.join(line.strip() for line in file)\n",
    "\n",
    "    file_name_list.append(file_name.split('.')[0])\n",
    "    file_content_list.append(file_content)\n",
    "\n",
    "data = {'file_name': file_name_list, 'file_content': file_content_list}\n",
    "df = pd.DataFrame(data)\n"
   ]
  },
  {
   "cell_type": "markdown",
   "metadata": {},
   "source": []
  },
  {
   "attachments": {},
   "cell_type": "markdown",
   "metadata": {},
   "source": [
    "## Dominance Score"
   ]
  },
  {
   "cell_type": "code",
   "execution_count": 80,
   "metadata": {},
   "outputs": [],
   "source": [
    "dominance_assessment_file_path = '/Users/nishthasardana/Downloads/Dominance-assesment.xlsx'\n",
    "dominance_df = pd.read_excel(dominance_assessment_file_path, skiprows=3, sheet_name='raw')\n",
    "dominance_df.drop(dominance_df.columns[6], axis=1, inplace=True)\n",
    "# Generate column names\n",
    "columns = ['file_name']\n",
    "num_speakers = 2\n",
    "num_columns_per_speaker = 5\n",
    "\n",
    "for i in range(1, num_speakers + 1):\n",
    "    for j in range(1, num_columns_per_speaker + 1):\n",
    "        column_name = f'speaker_{i}_{j}'\n",
    "        columns.append(column_name)\n",
    "\n",
    "# Assign the new column names to the DataFrame\n",
    "dominance_df.columns = columns\n",
    "\n",
    "dominance_df.dropna(inplace=True)"
   ]
  },
  {
   "cell_type": "code",
   "execution_count": 81,
   "metadata": {},
   "outputs": [],
   "source": [
    "# Generate column names\n",
    "columns = ['file_name']\n",
    "num_speakers = 2\n",
    "num_columns_per_speaker = 5\n",
    "\n",
    "for i in range(1, num_speakers + 1):\n",
    "    for j in range(1, num_columns_per_speaker + 1):\n",
    "        column_name = f'speaker_{i}_{j}'\n",
    "        columns.append(column_name)\n",
    "\n",
    "# Assign the new column names to the DataFrame\n",
    "dominance_df.columns = columns"
   ]
  },
  {
   "cell_type": "code",
   "execution_count": 82,
   "metadata": {},
   "outputs": [],
   "source": [
    "#Creating the final dataset\n",
    "\n",
    "result_df = df.merge(dominance_df, on='file_name')\n",
    "result_df['speaker_1_dom_score'] = result_df.loc[:, result_df.columns.str.startswith('speaker_1')].mean(axis=1)\n",
    "result_df['speaker_2_dom_score'] = result_df.loc[:, result_df.columns.str.startswith('speaker_2')].mean(axis=1)\n",
    "\n"
   ]
  },
  {
   "cell_type": "code",
   "execution_count": 84,
   "metadata": {},
   "outputs": [],
   "source": [
    "# # Save the DataFrame to a CSV file\n",
    "# result_df.to_csv('transcript_dominance.csv', index=False)"
   ]
  },
  {
   "cell_type": "code",
   "execution_count": null,
   "metadata": {},
   "outputs": [],
   "source": []
  }
 ],
 "metadata": {
  "kernelspec": {
   "display_name": "transcribe_env",
   "language": "python",
   "name": "python3"
  },
  "language_info": {
   "codemirror_mode": {
    "name": "ipython",
    "version": 3
   },
   "file_extension": ".py",
   "mimetype": "text/x-python",
   "name": "python",
   "nbconvert_exporter": "python",
   "pygments_lexer": "ipython3",
   "version": "3.11.5"
  },
  "orig_nbformat": 4,
  "vscode": {
   "interpreter": {
    "hash": "17723f1376eb5ef7e01e2ef4b87c884cd05d74bc3342a2b3af964ec39c7e5a34"
   }
  }
 },
 "nbformat": 4,
 "nbformat_minor": 2
}
